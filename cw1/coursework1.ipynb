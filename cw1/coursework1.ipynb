{
  "cells": [
    {
      "cell_type": "code",
      "execution_count": 1,
      "id": "035f35cb",
      "metadata": {
        "id": "035f35cb"
      },
      "outputs": [],
      "source": [
        "# 1. Uninstall jax and jaxlib (and pytensor if it's conflicting too)\n",
        "!pip uninstall -y jax scipy jaxlib pytensor > /dev/null 2>&1\n",
        "\n",
        "# 2. Install the versions that GPy wants\n",
        "!pip install \"numpy<2.0\" \"scipy<=1.12\" GPy > /dev/null 2>&1\n",
        "\n",
        "!wget -q https://mlg.eng.cam.ac.uk/teaching/4f13/2526/cw/cw1a.mat > /dev/null\n",
        "!wget -q https://mlg.eng.cam.ac.uk/teaching/4f13/2526/cw/cw1e.mat > /dev/null\n",
        "!wget -q https://raw.githubusercontent.com/cambridge-mlg/4f13-courseworks/refs/heads/main/gp.py > /dev/null"
      ]
    },
    {
      "cell_type": "code",
      "execution_count": 2,
      "id": "AirLkLO6YzYe",
      "metadata": {
        "id": "AirLkLO6YzYe"
      },
      "outputs": [],
      "source": [
        "import GPy\n",
        "import numpy as np\n",
        "import gp as cw1utils"
      ]
    },
    {
      "cell_type": "code",
      "execution_count": 3,
      "id": "a339526a",
      "metadata": {
        "id": "a339526a"
      },
      "outputs": [],
      "source": [
        "### Arbitrary data, X and y\n",
        "X = np.random.rand(20, 1) * 10  # 20 data points in 1D\n",
        "y = np.sin(X) + (np.cos(X))**2 + np.random.randn(20, 1) * 0.5  # noisy opipbservations"
      ]
    },
    {
      "cell_type": "markdown",
      "id": "c3aced2d",
      "metadata": {
        "id": "c3aced2d"
      },
      "source": [
        "## Loading Matlab arrays in Python"
      ]
    },
    {
      "cell_type": "code",
      "execution_count": 4,
      "id": "42d5f97c",
      "metadata": {
        "id": "42d5f97c"
      },
      "outputs": [],
      "source": [
        "import scipy.io as sio"
      ]
    },
    {
      "cell_type": "code",
      "execution_count": 5,
      "id": "032ea1f3",
      "metadata": {
        "id": "032ea1f3"
      },
      "outputs": [],
      "source": [
        "data = sio.loadmat(\"cw1a.mat\")  # Note this will throw an error because the file does not exist!\n",
        "\n",
        "X = np.asarray(data[\"x\"], dtype=float)\n",
        "y = np.asarray(data[\"y\"], dtype=float)"
      ]
    },
    {
      "cell_type": "markdown",
      "id": "4e659d75",
      "metadata": {
        "id": "4e659d75"
      },
      "source": [
        "## GP Model Definition with Various Kernels (using GPy):"
      ]
    },
    {
      "cell_type": "markdown",
      "id": "cd13e30a",
      "metadata": {
        "id": "cd13e30a"
      },
      "source": [
        "### Single kernels"
      ]
    },
    {
      "cell_type": "markdown",
      "id": "77f1645d",
      "metadata": {
        "id": "77f1645d"
      },
      "source": [
        "Squared exponential (SE) isotropic"
      ]
    },
    {
      "cell_type": "code",
      "execution_count": 6,
      "id": "8c9fd213",
      "metadata": {
        "id": "8c9fd213"
      },
      "outputs": [],
      "source": [
        "k = GPy.kern.RBF(input_dim=X.shape[1], lengthscale=1.0, variance=1.0)\n",
        "m = GPy.models.GPRegression(X, y, k)\n",
        "m.likelihood.variance = 1.0  # Note that this is the default value, so we don't strictly need to set it here unless we want a different initial value."
      ]
    },
    {
      "cell_type": "markdown",
      "id": "0f182f6c",
      "metadata": {
        "id": "0f182f6c"
      },
      "source": [
        "Periodic"
      ]
    },
    {
      "cell_type": "code",
      "execution_count": 7,
      "id": "821b9faf",
      "metadata": {
        "id": "821b9faf"
      },
      "outputs": [],
      "source": [
        "k = GPy.kern.StdPeriodic(input_dim=X.shape[1], lengthscale=1.0, period=1.0, variance=1.0)\n",
        "m = GPy.models.GPRegression(X, y, k)"
      ]
    },
    {
      "cell_type": "markdown",
      "id": "05ef8f29",
      "metadata": {
        "id": "05ef8f29"
      },
      "source": [
        "SE Automatic Relevance Determination (ARD)"
      ]
    },
    {
      "cell_type": "code",
      "execution_count": 8,
      "id": "bed6105e",
      "metadata": {
        "id": "bed6105e"
      },
      "outputs": [],
      "source": [
        "k = GPy.kern.RBF(input_dim=X.shape[1], ARD=True, lengthscale=1.0, variance=1.0)\n",
        "m = GPy.models.GPRegression(X, y, k)"
      ]
    },
    {
      "cell_type": "markdown",
      "id": "4a130e65",
      "metadata": {
        "id": "4a130e65"
      },
      "source": [
        "### Combined kernels"
      ]
    },
    {
      "cell_type": "markdown",
      "id": "a19b16fb",
      "metadata": {
        "id": "a19b16fb"
      },
      "source": [
        "Product of Periodic and SE Isotropic"
      ]
    },
    {
      "cell_type": "code",
      "execution_count": 9,
      "id": "d197b123",
      "metadata": {
        "id": "d197b123"
      },
      "outputs": [],
      "source": [
        "k_per = GPy.kern.StdPeriodic(input_dim=X.shape[1], lengthscale=1.0, period=1.0, variance=1.0)\n",
        "k_se  = GPy.kern.RBF(input_dim=X.shape[1], lengthscale=1.0, variance=1.0)\n",
        "kernel = k_per * k_se\n",
        "m = GPy.models.GPRegression(X, y, kernel)"
      ]
    },
    {
      "cell_type": "markdown",
      "id": "1b998962",
      "metadata": {
        "id": "1b998962"
      },
      "source": [
        "Sum of two SE ARD Kernels"
      ]
    },
    {
      "cell_type": "code",
      "execution_count": 10,
      "id": "4b4a20c4",
      "metadata": {
        "id": "4b4a20c4"
      },
      "outputs": [],
      "source": [
        "z = np.random.randn(4)\n",
        "ell1 = np.exp(z[0])\n",
        "sf1  = np.exp(z[1])\n",
        "var1 = sf1**2\n",
        "\n",
        "ell2 = np.exp(z[2])\n",
        "sf2  = np.exp(z[3])\n",
        "var2 = sf2**2\n",
        "\n",
        "k1 = GPy.kern.RBF(input_dim=X.shape[1], ARD=True, lengthscale=ell1, variance=var1)\n",
        "k2 = GPy.kern.RBF(input_dim=X.shape[1], ARD=True, lengthscale=ell2, variance=var2)\n",
        "k  = k1 + k2\n",
        "\n",
        "m = GPy.models.GPRegression(X, y, kernel=k)"
      ]
    },
    {
      "cell_type": "markdown",
      "id": "4ce816b7",
      "metadata": {
        "id": "4ce816b7"
      },
      "source": [
        "## GP Model Hyperparameter Optimisation using Marginal Likelihood"
      ]
    },
    {
      "cell_type": "markdown",
      "id": "b3da5d30",
      "metadata": {
        "id": "b3da5d30"
      },
      "source": [
        "Once a GP regression model is specified, we can optimise its hyperparameters by minimising the negative log marginal likelihood (which is equivalent to maximising the likelihood of the data under the model.)"
      ]
    },
    {
      "cell_type": "code",
      "execution_count": 11,
      "id": "f59ef468",
      "metadata": {
        "colab": {
          "base_uri": "https://localhost:8080/"
        },
        "id": "f59ef468",
        "outputId": "d8a4db12-b8b2-4ae7-8156-03c7bfcbe420"
      },
      "outputs": [],
      "source": [
        "m.optimize(optimizer='lbfgsb', max_iters=2000, messages=False)"
      ]
    },
    {
      "cell_type": "markdown",
      "id": "9ac8f972",
      "metadata": {
        "id": "9ac8f972"
      },
      "source": [
        "## Utilities functions useful for producing figures to be included in report"
      ]
    },
    {
      "cell_type": "code",
      "execution_count": 12,
      "id": "d4332448",
      "metadata": {
        "colab": {
          "base_uri": "https://localhost:8080/",
          "height": 980
        },
        "id": "d4332448",
        "outputId": "5413f970-b2f6-4998-b6f8-3705e64d21f3"
      },
      "outputs": [],
      "source": [
        "cw1utils.print_model_summary(m)\n",
        "cw1utils.print_model_marginal_likelihood(m)\n",
        "cw1utils.plot_predictive_error_bars(m, X, y, \"\\n command\\n another command\")\n",
        "\n",
        "# cw1utils.plot_2d_predictive(mA, mB, codeA=None, codeB=None, save_path=None)\n",
        "# cw1utils.plot_sampled_functions(X, F, code_snippet, n_draws=3, save_path=None)"
      ]
    }
  ],
  "metadata": {
    "colab": {
      "provenance": []
    },
    "kernelspec": {
      "display_name": "Python 3 (ipykernel)",
      "language": "python",
      "name": "python3"
    }
  },
  "nbformat": 4,
  "nbformat_minor": 5
}
