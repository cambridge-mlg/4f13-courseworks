{
 "cells": [
  {
   "cell_type": "code",
   "execution_count": 20,
   "id": "035f35cb",
   "metadata": {},
   "outputs": [],
   "source": [
    "import GPy\n",
    "import numpy as np"
   ]
  },
  {
   "cell_type": "code",
   "execution_count": 21,
   "id": "a339526a",
   "metadata": {},
   "outputs": [],
   "source": [
    "### Arbitrary data, X and y\n",
    "X = np.random.rand(20, 1) * 10  # 20 data points in 1D\n",
    "y = np.sin(X) + (np.cos(X))**2 + np.random.randn(20, 1) * 0.5  # noisy observations"
   ]
  },
  {
   "cell_type": "markdown",
   "id": "c3aced2d",
   "metadata": {},
   "source": [
    "## Loading Matlab arrays in Python"
   ]
  },
  {
   "cell_type": "code",
   "execution_count": 29,
   "id": "42d5f97c",
   "metadata": {},
   "outputs": [],
   "source": [
    "import scipy.io as sio"
   ]
  },
  {
   "cell_type": "code",
   "execution_count": null,
   "id": "032ea1f3",
   "metadata": {},
   "outputs": [],
   "source": [
    "data = sio.loadmat(\"file_path/example_file.mat\")  # Note this will throw an error because the file does not exist!\n",
    "\n",
    "X = np.asarray(data[\"x\"], dtype=float)\n",
    "y = np.asarray(data[\"y\"], dtype=float)"
   ]
  },
  {
   "cell_type": "markdown",
   "id": "4e659d75",
   "metadata": {},
   "source": [
    "## GP Model Definition with Various Kernels (using GPy):"
   ]
  },
  {
   "cell_type": "markdown",
   "id": "cd13e30a",
   "metadata": {},
   "source": [
    "### Single kernels"
   ]
  },
  {
   "cell_type": "markdown",
   "id": "77f1645d",
   "metadata": {},
   "source": [
    "Squared exponential (SE) isotropic"
   ]
  },
  {
   "cell_type": "code",
   "execution_count": 22,
   "id": "8c9fd213",
   "metadata": {},
   "outputs": [],
   "source": [
    "k = GPy.kern.RBF(input_dim=X.shape[1], lengthscale=1.0, variance=1.0)\n",
    "m = GPy.models.GPRegression(X, y, k)\n",
    "m.likelihood.variance = 1.0  # Note that this is the default value, so we don't strictly need to set it here unless we want a different initial value."
   ]
  },
  {
   "cell_type": "markdown",
   "id": "0f182f6c",
   "metadata": {},
   "source": [
    "Periodic"
   ]
  },
  {
   "cell_type": "code",
   "execution_count": 23,
   "id": "821b9faf",
   "metadata": {},
   "outputs": [],
   "source": [
    "k = GPy.kern.StdPeriodic(input_dim=X.shape[1], lengthscale=1.0, period=1.0, variance=1.0)\n",
    "m = GPy.models.GPRegression(X, y, k)"
   ]
  },
  {
   "cell_type": "markdown",
   "id": "05ef8f29",
   "metadata": {},
   "source": [
    "SE Automatic Relevance Determination (ARD)"
   ]
  },
  {
   "cell_type": "code",
   "execution_count": 24,
   "id": "bed6105e",
   "metadata": {},
   "outputs": [],
   "source": [
    "k = GPy.kern.RBF(input_dim=X.shape[1], ARD=True, lengthscale=1.0, variance=1.0)\n",
    "m = GPy.models.GPRegression(X, y, k)"
   ]
  },
  {
   "cell_type": "markdown",
   "id": "4a130e65",
   "metadata": {},
   "source": [
    "### Combined kernels"
   ]
  },
  {
   "cell_type": "markdown",
   "id": "a19b16fb",
   "metadata": {},
   "source": [
    "Product of Periodic and SE Isotropic"
   ]
  },
  {
   "cell_type": "code",
   "execution_count": 25,
   "id": "d197b123",
   "metadata": {},
   "outputs": [],
   "source": [
    "k_per = GPy.kern.StdPeriodic(input_dim=X.shape[1], lengthscale=1.0, period=1.0, variance=1.0)   \n",
    "k_se  = GPy.kern.RBF(input_dim=X.shape[1], lengthscale=1.0, variance=1.0)          \n",
    "kernel = k_per * k_se\n",
    "m = GPy.models.GPRegression(X, y, kernel)"
   ]
  },
  {
   "cell_type": "markdown",
   "id": "1b998962",
   "metadata": {},
   "source": [
    "Sum of two SE ARD Kernels"
   ]
  },
  {
   "cell_type": "code",
   "execution_count": 26,
   "id": "4b4a20c4",
   "metadata": {},
   "outputs": [],
   "source": [
    "z = np.random.randn(4)\n",
    "ell1 = np.exp(z[0])\n",
    "sf1  = np.exp(z[1])\n",
    "var1 = sf1**2                       \n",
    "\n",
    "ell2 = np.exp(z[2])\n",
    "sf2  = np.exp(z[3])\n",
    "var2 = sf2**2\n",
    "\n",
    "k1 = GPy.kern.RBF(input_dim=X.shape[1], ARD=True, lengthscale=ell1, variance=var1)\n",
    "k2 = GPy.kern.RBF(input_dim=X.shape[1], ARD=True, lengthscale=ell2, variance=var2)\n",
    "k  = k1 + k2\n",
    "\n",
    "m = GPy.models.GPRegression(X, y, kernel=k)"
   ]
  },
  {
   "cell_type": "markdown",
   "id": "4ce816b7",
   "metadata": {},
   "source": [
    "## GP Model Hyperparameter Optimisation using Marginal Likelihood"
   ]
  },
  {
   "cell_type": "markdown",
   "id": "b3da5d30",
   "metadata": {},
   "source": [
    "Once a GP regression model is specified, we can optimise its hyperparameters by minimising the negative log marginal likelihood (which is equivalent to maximising the likelihood of the data under the model.)"
   ]
  },
  {
   "cell_type": "code",
   "execution_count": 27,
   "id": "f59ef468",
   "metadata": {},
   "outputs": [
    {
     "data": {
      "text/plain": [
       "<paramz.optimization.optimization.opt_lbfgsb at 0x21307832e40>"
      ]
     },
     "execution_count": 27,
     "metadata": {},
     "output_type": "execute_result"
    }
   ],
   "source": [
    "m.optimize(optimizer='lbfgsb', max_iters=2000, messages=False)"
   ]
  }
 ],
 "metadata": {
  "kernelspec": {
   "display_name": "Python 3",
   "language": "python",
   "name": "python3"
  },
  "language_info": {
   "codemirror_mode": {
    "name": "ipython",
    "version": 3
   },
   "file_extension": ".py",
   "mimetype": "text/x-python",
   "name": "python",
   "nbconvert_exporter": "python",
   "pygments_lexer": "ipython3",
   "version": "3.12.0"
  }
 },
 "nbformat": 4,
 "nbformat_minor": 5
}
